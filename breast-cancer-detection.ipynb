{
 "cells": [
  {
   "cell_type": "code",
   "execution_count": null,
   "metadata": {},
   "outputs": [],
   "source": [
    "#Import libraries for maths and data visualisation\n",
    "import numpy as np\n",
    "import pandas as pd\n",
    "\n",
    "#Import  and load breast cancer dataset\n",
    "from sklearn.datasets import load_breast_cancer\n",
    "cancer = load_breast_cancer()"
   ]
  },
  {
   "cell_type": "code",
   "execution_count": null,
   "metadata": {},
   "outputs": [],
   "source": [
    "#Import libraries for train/test split and k-Nearest Neighbours\n",
    "from sklearn.model_selection import train_test_split\n",
    "from sklearn.neighbors import KNeighborsClassifier"
   ]
  },
  {
   "cell_type": "code",
   "execution_count": null,
   "metadata": {},
   "outputs": [],
   "source": [
    "# Print the data set description\n",
    "print(cancer.DESCR)"
   ]
  },
  {
   "cell_type": "code",
   "execution_count": null,
   "metadata": {},
   "outputs": [],
   "source": [
    "# Number of features of the breast cancer dataset (integer). \n",
    "print(len(cancer.feature_names))"
   ]
  },
  {
   "cell_type": "code",
   "execution_count": null,
   "metadata": {},
   "outputs": [],
   "source": [
    "# Divide the data into a panda dataframe\n",
    "cancers_df = pd.DataFrame(data=cancer.data, columns=cancer.feature_names)\n",
    "cancers_df['target'] = cancer.target"
   ]
  },
  {
   "cell_type": "code",
   "execution_count": null,
   "metadata": {},
   "outputs": [],
   "source": [
    "# Divide the data results as binary outputs (malignant or benign)\n",
    "class_distribution = cancer_df['target'].value_counts()\n",
    "class_distribution.index = ['malignant', 'benign']"
   ]
  },
  {
   "cell_type": "code",
   "execution_count": null,
   "metadata": {},
   "outputs": [],
   "source": [
    "# X includes the parameters, y includes the target results\n",
    "X = cancer_df.drop(columns=['target'])\n",
    "y = cancer_df['target']"
   ]
  },
  {
   "cell_type": "code",
   "execution_count": null,
   "metadata": {},
   "outputs": [],
   "source": [
    "# Split the data into training and testing datasets\n",
    "X_train, X_test, y_train, y_test =train_test_split(X, y, random_state=0)"
   ]
  },
  {
   "cell_type": "code",
   "execution_count": null,
   "metadata": {},
   "outputs": [],
   "source": [
    "# Apply the K-Nearest Neighbours principal\n",
    "ask_n_neighbours = int(input(\"Select the number of neighbours to classify with : \"))\n",
    "knn = KNeighborsClassifier(n_neighbors=ask_n_neighbours)\n",
    "knn.fit(X_train, y_train)"
   ]
  },
  {
   "cell_type": "code",
   "execution_count": null,
   "metadata": {},
   "outputs": [],
   "source": [
    "# Predicts the label for breast cancer detection using the given dataframe and KNN classifier.\n",
    "\n",
    "mean_values = cancer_df.mean()[:-1].values.reshape(1, -1)\n",
    "predicted_label = knn.predict(mean_values)\n"
   ]
  },
  {
   "cell_type": "code",
   "execution_count": null,
   "metadata": {},
   "outputs": [],
   "source": [
    "# Predict the results based on the given values\n",
    "predicted_labels = knn.predict(X_test)\n",
    "print(predicted_label.shape)"
   ]
  },
  {
   "cell_type": "code",
   "execution_count": null,
   "metadata": {},
   "outputs": [],
   "source": [
    "#Print precision of the model, based off the results of X_test\n",
    "score = knn.score(X_test, y_test)\n",
    "print(\"Precision : \" + score)"
   ]
  }
 ],
 "metadata": {
  "kernelspec": {
   "display_name": "Python 3",
   "language": "python",
   "name": "python3"
  },
  "language_info": {
   "codemirror_mode": {
    "name": "ipython",
    "version": 3
   },
   "file_extension": ".py",
   "mimetype": "text/x-python",
   "name": "python",
   "nbconvert_exporter": "python",
   "pygments_lexer": "ipython3",
   "version": "3.11.6"
  }
 },
 "nbformat": 4,
 "nbformat_minor": 2
}
